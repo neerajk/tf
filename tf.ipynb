{
  "nbformat": 4,
  "nbformat_minor": 0,
  "metadata": {
    "colab": {
      "provenance": []
    },
    "kernelspec": {
      "name": "python3",
      "display_name": "Python 3"
    },
    "language_info": {
      "name": "python"
    }
  },
  "cells": [
    {
      "cell_type": "code",
      "execution_count": null,
      "metadata": {
        "id": "UPxMza3yumTG"
      },
      "outputs": [],
      "source": [
        "import tensorflow as tf"
      ]
    },
    {
      "cell_type": "code",
      "source": [
        "tensor_zero_d = tf.constant(4)\n",
        "print(tensor_zero_d)"
      ],
      "metadata": {
        "colab": {
          "base_uri": "https://localhost:8080/"
        },
        "id": "942DvvPautw0",
        "outputId": "d01a029a-f82c-46a2-9612-4951b4a278c5"
      },
      "execution_count": null,
      "outputs": [
        {
          "output_type": "stream",
          "name": "stdout",
          "text": [
            "tf.Tensor(4, shape=(), dtype=int32)\n"
          ]
        }
      ]
    },
    {
      "cell_type": "code",
      "source": [
        "tensor_one_d = tf.constant([2,0,-3])\n",
        "print(tensor_one_d)"
      ],
      "metadata": {
        "colab": {
          "base_uri": "https://localhost:8080/"
        },
        "id": "LQRVlqr1vGbH",
        "outputId": "5a7cadfe-72a9-4b18-f59d-8d15d7e137d1"
      },
      "execution_count": null,
      "outputs": [
        {
          "output_type": "stream",
          "name": "stdout",
          "text": [
            "tf.Tensor([ 2  0 -3], shape=(3,), dtype=int32)\n"
          ]
        }
      ]
    },
    {
      "cell_type": "code",
      "source": [
        "tensor_two_d = tf.constant([\n",
        "    [1,2,0],\n",
        "    [3,5,-1],\n",
        "    [1,5,6],\n",
        "    [2,3,8]\n",
        "])\n",
        "print(tensor_two_d)"
      ],
      "metadata": {
        "colab": {
          "base_uri": "https://localhost:8080/"
        },
        "id": "-rHVtUKuvXrf",
        "outputId": "aa5f853c-8051-4a3a-ae9b-93eeb3abc3d9"
      },
      "execution_count": null,
      "outputs": [
        {
          "output_type": "stream",
          "name": "stdout",
          "text": [
            "tf.Tensor(\n",
            "[[ 1  2  0]\n",
            " [ 3  5 -1]\n",
            " [ 1  5  6]\n",
            " [ 2  3  8]], shape=(4, 3), dtype=int32)\n"
          ]
        }
      ]
    },
    {
      "cell_type": "code",
      "source": [],
      "metadata": {
        "id": "Zb8vELLewVXq"
      },
      "execution_count": null,
      "outputs": []
    },
    {
      "cell_type": "code",
      "source": [
        "tensor_three_d = tf.constant([\n",
        "    [[1,2,0],\n",
        "     [3,5,1]],\n",
        "    [[4,322,1],\n",
        "     [345,21,21]],\n",
        "    [[65,32,77],\n",
        "     [21,46,89]]\n",
        "])"
      ],
      "metadata": {
        "id": "yH7bH9xgvf31"
      },
      "execution_count": null,
      "outputs": []
    },
    {
      "cell_type": "code",
      "source": [
        "print(tensor_three_d)"
      ],
      "metadata": {
        "colab": {
          "base_uri": "https://localhost:8080/"
        },
        "id": "rudZpr_lwmK0",
        "outputId": "4995919f-158e-400d-e390-f3389ef7e28e"
      },
      "execution_count": null,
      "outputs": [
        {
          "output_type": "stream",
          "name": "stdout",
          "text": [
            "tf.Tensor(\n",
            "[[[  1   2   0]\n",
            "  [  3   5   1]]\n",
            "\n",
            " [[  4 322   1]\n",
            "  [345  21  21]]\n",
            "\n",
            " [[ 65  32  77]\n",
            "  [ 21  46  89]]], shape=(3, 2, 3), dtype=int32)\n"
          ]
        }
      ]
    },
    {
      "cell_type": "code",
      "source": [
        "print(tensor_three_d.shape)"
      ],
      "metadata": {
        "colab": {
          "base_uri": "https://localhost:8080/"
        },
        "id": "fKTnh4MNwnsI",
        "outputId": "2dbb2fa6-2c1c-4df0-dbb9-1b5726918b25"
      },
      "execution_count": null,
      "outputs": [
        {
          "output_type": "stream",
          "name": "stdout",
          "text": [
            "(3, 2, 3)\n"
          ]
        }
      ]
    },
    {
      "cell_type": "code",
      "source": [
        "print(tensor_three_d.ndim)"
      ],
      "metadata": {
        "colab": {
          "base_uri": "https://localhost:8080/"
        },
        "id": "hkat1LE_w3ec",
        "outputId": "b5f6a326-0e67-4d35-d287-e02e8837c046"
      },
      "execution_count": null,
      "outputs": [
        {
          "output_type": "stream",
          "name": "stdout",
          "text": [
            "3\n"
          ]
        }
      ]
    },
    {
      "cell_type": "code",
      "source": [
        "tensor_four_d = tf.constant([\n",
        "    [[[1,2,0],\n",
        "     [3,5,1]],\n",
        "    [[4,322,1],\n",
        "     [345,21,21]],\n",
        "    [[65,32,77],\n",
        "     [21,46,89]],\n",
        "     [[1,2,0],\n",
        "     [12,34,77]]],\n",
        "    [[[1,2,0],\n",
        "     [3,5,1]],\n",
        "    [[4,322,1],\n",
        "     [345,21,21]],\n",
        "    [[65,32,77],\n",
        "     [21,46,89]],\n",
        "     [[1,2,0],\n",
        "     [12,34,77]]],\n",
        "    [[[1,2,0],\n",
        "     [3,5,1]],\n",
        "    [[4,322,1],\n",
        "     [345,21,21]],\n",
        "    [[65,32,77],\n",
        "     [21,46,89]],\n",
        "     [[1,2,0],\n",
        "     [12,34,77]]]\n",
        "])"
      ],
      "metadata": {
        "id": "BS-fF3vgw8Zk"
      },
      "execution_count": null,
      "outputs": []
    },
    {
      "cell_type": "code",
      "source": [
        "print(tensor_four_d)"
      ],
      "metadata": {
        "colab": {
          "base_uri": "https://localhost:8080/"
        },
        "id": "3HMWO9Fmxas6",
        "outputId": "05133b19-497c-48dc-edb9-ae7ff187a82c"
      },
      "execution_count": null,
      "outputs": [
        {
          "output_type": "stream",
          "name": "stdout",
          "text": [
            "tf.Tensor(\n",
            "[[[[  1   2   0]\n",
            "   [  3   5   1]]\n",
            "\n",
            "  [[  4 322   1]\n",
            "   [345  21  21]]\n",
            "\n",
            "  [[ 65  32  77]\n",
            "   [ 21  46  89]]\n",
            "\n",
            "  [[  1   2   0]\n",
            "   [ 12  34  77]]]\n",
            "\n",
            "\n",
            " [[[  1   2   0]\n",
            "   [  3   5   1]]\n",
            "\n",
            "  [[  4 322   1]\n",
            "   [345  21  21]]\n",
            "\n",
            "  [[ 65  32  77]\n",
            "   [ 21  46  89]]\n",
            "\n",
            "  [[  1   2   0]\n",
            "   [ 12  34  77]]]\n",
            "\n",
            "\n",
            " [[[  1   2   0]\n",
            "   [  3   5   1]]\n",
            "\n",
            "  [[  4 322   1]\n",
            "   [345  21  21]]\n",
            "\n",
            "  [[ 65  32  77]\n",
            "   [ 21  46  89]]\n",
            "\n",
            "  [[  1   2   0]\n",
            "   [ 12  34  77]]]], shape=(3, 4, 2, 3), dtype=int32)\n"
          ]
        }
      ]
    },
    {
      "cell_type": "code",
      "source": [
        "tensor_four_d.ndim"
      ],
      "metadata": {
        "colab": {
          "base_uri": "https://localhost:8080/"
        },
        "id": "weKWkHmyzbZP",
        "outputId": "ccd302fd-c4e1-4c9b-bb48-147c9c74c3dc"
      },
      "execution_count": null,
      "outputs": [
        {
          "output_type": "execute_result",
          "data": {
            "text/plain": [
              "4"
            ]
          },
          "metadata": {},
          "execution_count": 42
        }
      ]
    },
    {
      "cell_type": "code",
      "source": [
        "print(tensor_one_d)"
      ],
      "metadata": {
        "colab": {
          "base_uri": "https://localhost:8080/"
        },
        "id": "BYsRJzdezmBc",
        "outputId": "2f48a399-5306-4b71-9c49-131caf8f41c8"
      },
      "execution_count": null,
      "outputs": [
        {
          "output_type": "stream",
          "name": "stdout",
          "text": [
            "tf.Tensor([ 2  0 -3], shape=(3,), dtype=int32)\n"
          ]
        }
      ]
    },
    {
      "cell_type": "code",
      "source": [
        "tensor_one_d.ndim"
      ],
      "metadata": {
        "colab": {
          "base_uri": "https://localhost:8080/"
        },
        "id": "7rKvsfDTzqIf",
        "outputId": "f4e3bda9-113e-41aa-d2aa-0b2d5a634ce4"
      },
      "execution_count": null,
      "outputs": [
        {
          "output_type": "execute_result",
          "data": {
            "text/plain": [
              "1"
            ]
          },
          "metadata": {},
          "execution_count": 44
        }
      ]
    },
    {
      "cell_type": "code",
      "source": [
        "import numpy as np"
      ],
      "metadata": {
        "id": "po-2CWWlyoiR"
      },
      "execution_count": null,
      "outputs": []
    },
    {
      "cell_type": "code",
      "source": [
        "##convering array into tensors\n",
        "\n",
        "np_array = np.array([1,2,3,4])\n",
        "print(np_array)"
      ],
      "metadata": {
        "colab": {
          "base_uri": "https://localhost:8080/"
        },
        "id": "xAK8AMdIyp2g",
        "outputId": "14476984-8560-420a-971a-80ad1d09d024"
      },
      "execution_count": null,
      "outputs": [
        {
          "output_type": "stream",
          "name": "stdout",
          "text": [
            "[1 2 3 4]\n"
          ]
        }
      ]
    },
    {
      "cell_type": "code",
      "source": [
        "np_array.shape"
      ],
      "metadata": {
        "colab": {
          "base_uri": "https://localhost:8080/"
        },
        "id": "r70nHJR4yv_y",
        "outputId": "b66a772a-fcf7-46fa-d5ed-94409b97b992"
      },
      "execution_count": null,
      "outputs": [
        {
          "output_type": "execute_result",
          "data": {
            "text/plain": [
              "(4,)"
            ]
          },
          "metadata": {},
          "execution_count": 47
        }
      ]
    },
    {
      "cell_type": "code",
      "source": [
        "ct = tf.convert_to_tensor(np_array)\n",
        "print(ct)"
      ],
      "metadata": {
        "colab": {
          "base_uri": "https://localhost:8080/"
        },
        "id": "Mj_PGhbOyybw",
        "outputId": "c3a2546f-18d1-452d-9da0-14da8e676e1f"
      },
      "execution_count": null,
      "outputs": [
        {
          "output_type": "stream",
          "name": "stdout",
          "text": [
            "tf.Tensor([1 2 3 4], shape=(4,), dtype=int64)\n"
          ]
        }
      ]
    },
    {
      "cell_type": "code",
      "source": [
        "type(ct)"
      ],
      "metadata": {
        "colab": {
          "base_uri": "https://localhost:8080/"
        },
        "id": "daefwI7Dy3Lo",
        "outputId": "65313b21-92bf-4835-ab69-3a7cf2a885a7"
      },
      "execution_count": null,
      "outputs": [
        {
          "output_type": "execute_result",
          "data": {
            "text/plain": [
              "tensorflow.python.framework.ops.EagerTensor"
            ]
          },
          "metadata": {},
          "execution_count": 49
        }
      ]
    },
    {
      "cell_type": "code",
      "source": [
        "im = tf.eye(3,batch_shape=[2])\n",
        "print(im)"
      ],
      "metadata": {
        "colab": {
          "base_uri": "https://localhost:8080/"
        },
        "id": "B2eJ9f9Fy4oK",
        "outputId": "d8dd5f11-fd51-4029-ecfe-413b46948df8"
      },
      "execution_count": null,
      "outputs": [
        {
          "output_type": "stream",
          "name": "stdout",
          "text": [
            "tf.Tensor(\n",
            "[[[1. 0. 0.]\n",
            "  [0. 1. 0.]\n",
            "  [0. 0. 1.]]\n",
            "\n",
            " [[1. 0. 0.]\n",
            "  [0. 1. 0.]\n",
            "  [0. 0. 1.]]], shape=(2, 3, 3), dtype=float32)\n"
          ]
        }
      ]
    },
    {
      "cell_type": "code",
      "source": [
        "tf.shape(im)"
      ],
      "metadata": {
        "colab": {
          "base_uri": "https://localhost:8080/"
        },
        "id": "rPgTV1hUzEKQ",
        "outputId": "19e46783-dc8c-4e0a-d1ab-0d723e5db996"
      },
      "execution_count": null,
      "outputs": [
        {
          "output_type": "execute_result",
          "data": {
            "text/plain": [
              "<tf.Tensor: shape=(3,), dtype=int32, numpy=array([2, 3, 3], dtype=int32)>"
            ]
          },
          "metadata": {},
          "execution_count": 51
        }
      ]
    },
    {
      "cell_type": "code",
      "source": [
        "print(tf.shape(tensor_four_d\n",
        "         ))"
      ],
      "metadata": {
        "colab": {
          "base_uri": "https://localhost:8080/"
        },
        "id": "Fq6Tc0tM1QCM",
        "outputId": "334d180a-2913-46b5-9445-387e9f09893d"
      },
      "execution_count": null,
      "outputs": [
        {
          "output_type": "stream",
          "name": "stdout",
          "text": [
            "tf.Tensor([3 4 2 3], shape=(4,), dtype=int32)\n"
          ]
        }
      ]
    },
    {
      "cell_type": "code",
      "source": [
        "tf.rank(im)"
      ],
      "metadata": {
        "colab": {
          "base_uri": "https://localhost:8080/"
        },
        "id": "Q7T0ZhXN1Yo9",
        "outputId": "c4b7dfd2-0d2a-404f-e5b8-b84dd9723e6d"
      },
      "execution_count": null,
      "outputs": [
        {
          "output_type": "execute_result",
          "data": {
            "text/plain": [
              "<tf.Tensor: shape=(), dtype=int32, numpy=3>"
            ]
          },
          "metadata": {},
          "execution_count": 53
        }
      ]
    },
    {
      "cell_type": "code",
      "source": [
        "random_t = tf.random.normal([3,2],100,100)"
      ],
      "metadata": {
        "id": "9lO9cp7V14bv"
      },
      "execution_count": null,
      "outputs": []
    },
    {
      "cell_type": "code",
      "source": [
        "print(random_t)"
      ],
      "metadata": {
        "colab": {
          "base_uri": "https://localhost:8080/"
        },
        "id": "eEXSioJC2fbL",
        "outputId": "3cfcd18d-21d2-47fa-fff5-125233207393"
      },
      "execution_count": null,
      "outputs": [
        {
          "output_type": "stream",
          "name": "stdout",
          "text": [
            "tf.Tensor(\n",
            "[[ 88.79649  170.83241 ]\n",
            " [100.81504   55.634056]\n",
            " [132.63045   55.276623]], shape=(3, 2), dtype=float32)\n"
          ]
        }
      ]
    },
    {
      "cell_type": "code",
      "source": [
        "ran_t = tf.random.uniform([4,5])"
      ],
      "metadata": {
        "id": "LigKLe-T2gl8"
      },
      "execution_count": null,
      "outputs": []
    },
    {
      "cell_type": "code",
      "source": [
        "print(ran_t)"
      ],
      "metadata": {
        "colab": {
          "base_uri": "https://localhost:8080/"
        },
        "id": "CQ6cW5ao3qjV",
        "outputId": "7c9f2a14-01de-4b12-b754-fee056258fa7"
      },
      "execution_count": null,
      "outputs": [
        {
          "output_type": "stream",
          "name": "stdout",
          "text": [
            "tf.Tensor(\n",
            "[[0.58210146 0.81507874 0.06345975 0.9933045  0.8088434 ]\n",
            " [0.20589364 0.59493375 0.1389848  0.48725688 0.4609952 ]\n",
            " [0.3796401  0.2822442  0.37817025 0.2983395  0.9490334 ]\n",
            " [0.23017478 0.55396783 0.4233501  0.4399948  0.49963593]], shape=(4, 5), dtype=float32)\n"
          ]
        }
      ]
    },
    {
      "cell_type": "code",
      "source": [
        "for x in range(5):\n",
        "  print(x)"
      ],
      "metadata": {
        "colab": {
          "base_uri": "https://localhost:8080/"
        },
        "id": "KdVRBTJ63rac",
        "outputId": "6bdd50b5-49f1-4bf4-873b-1d745a39c10c"
      },
      "execution_count": null,
      "outputs": [
        {
          "output_type": "stream",
          "name": "stdout",
          "text": [
            "0\n",
            "1\n",
            "2\n",
            "3\n",
            "4\n"
          ]
        }
      ]
    },
    {
      "cell_type": "code",
      "source": [
        "tensor_two_d = tf.constant([\n",
        "    [1,2,0],\n",
        "    [3,5,-1],\n",
        "    [1,5,6],\n",
        "    [2,3,8]\n",
        "])\n",
        "print(tensor_two_d)"
      ],
      "metadata": {
        "id": "wexSmk9RZhX4",
        "colab": {
          "base_uri": "https://localhost:8080/"
        },
        "outputId": "d6b5dd75-daf0-4f32-a0bb-21078d97fb30"
      },
      "execution_count": null,
      "outputs": [
        {
          "output_type": "stream",
          "name": "stdout",
          "text": [
            "tf.Tensor(\n",
            "[[ 1  2  0]\n",
            " [ 3  5 -1]\n",
            " [ 1  5  6]\n",
            " [ 2  3  8]], shape=(4, 3), dtype=int32)\n"
          ]
        }
      ]
    },
    {
      "cell_type": "code",
      "source": [
        "print(tensor_two_d[1:3,0])"
      ],
      "metadata": {
        "colab": {
          "base_uri": "https://localhost:8080/"
        },
        "id": "W3Xd53RDljDf",
        "outputId": "4a463a88-d68f-46a3-bd30-03fab409bdb0"
      },
      "execution_count": null,
      "outputs": [
        {
          "output_type": "stream",
          "name": "stdout",
          "text": [
            "tf.Tensor([3 1], shape=(2,), dtype=int32)\n"
          ]
        }
      ]
    },
    {
      "cell_type": "code",
      "source": [
        "print(tensor_two_d[...,1])"
      ],
      "metadata": {
        "colab": {
          "base_uri": "https://localhost:8080/"
        },
        "id": "xQvszt8PlsSv",
        "outputId": "e5762aa2-4179-4222-81a7-9955bf14fefa"
      },
      "execution_count": null,
      "outputs": [
        {
          "output_type": "stream",
          "name": "stdout",
          "text": [
            "tf.Tensor([2 5 5 3], shape=(4,), dtype=int32)\n"
          ]
        }
      ]
    },
    {
      "cell_type": "code",
      "source": [
        "tensor_three_d = tf.constant([\n",
        "    [[1,2,0],\n",
        "     [3,5,1]],\n",
        "    [[4,322,1],\n",
        "     [345,21,21]],\n",
        "    [[65,32,77],\n",
        "     [21,46,89]]\n",
        "])\n",
        "\n",
        "print(tensor_three_d)"
      ],
      "metadata": {
        "colab": {
          "base_uri": "https://localhost:8080/"
        },
        "id": "7znkuQREl3nt",
        "outputId": "11a1acaa-f926-4d2e-a6ad-880cd7137537"
      },
      "execution_count": null,
      "outputs": [
        {
          "output_type": "stream",
          "name": "stdout",
          "text": [
            "tf.Tensor(\n",
            "[[[  1   2   0]\n",
            "  [  3   5   1]]\n",
            "\n",
            " [[  4 322   1]\n",
            "  [345  21  21]]\n",
            "\n",
            " [[ 65  32  77]\n",
            "  [ 21  46  89]]], shape=(3, 2, 3), dtype=int32)\n"
          ]
        }
      ]
    },
    {
      "cell_type": "code",
      "source": [
        "print(tensor_three_d[0:2,0,0:1])"
      ],
      "metadata": {
        "colab": {
          "base_uri": "https://localhost:8080/"
        },
        "id": "Npbzp0U2l8Gu",
        "outputId": "c6c60195-9864-4cdd-eac2-19eacf522d83"
      },
      "execution_count": null,
      "outputs": [
        {
          "output_type": "stream",
          "name": "stdout",
          "text": [
            "tf.Tensor(\n",
            "[[1]\n",
            " [4]], shape=(2, 1), dtype=int32)\n"
          ]
        }
      ]
    },
    {
      "cell_type": "code",
      "source": [
        "x = tf.constant([-22,-21,-33])\n",
        "tf.abs(x)"
      ],
      "metadata": {
        "colab": {
          "base_uri": "https://localhost:8080/"
        },
        "id": "5CphD3QpmJnU",
        "outputId": "720e58fd-14ea-4a80-bb98-6bbc564c4a23"
      },
      "execution_count": null,
      "outputs": [
        {
          "output_type": "execute_result",
          "data": {
            "text/plain": [
              "<tf.Tensor: shape=(3,), dtype=int32, numpy=array([22, 21, 33], dtype=int32)>"
            ]
          },
          "metadata": {},
          "execution_count": 64
        }
      ]
    },
    {
      "cell_type": "code",
      "source": [
        "x1 = tf.constant([[1,2,0],[2,3,4]])\n",
        "x2 = tf.constant([[1,2],[2,2],[5,6]])"
      ],
      "metadata": {
        "id": "yNbSJKy0nSMV"
      },
      "execution_count": null,
      "outputs": []
    },
    {
      "cell_type": "code",
      "source": [
        "tf.linalg.matmul(x1,x2)"
      ],
      "metadata": {
        "colab": {
          "base_uri": "https://localhost:8080/"
        },
        "id": "QRCYDVp1uFud",
        "outputId": "8778e817-119f-4327-8fe9-fa7b4be91f3f"
      },
      "execution_count": null,
      "outputs": [
        {
          "output_type": "execute_result",
          "data": {
            "text/plain": [
              "<tf.Tensor: shape=(2, 2), dtype=int32, numpy=\n",
              "array([[ 5,  6],\n",
              "       [28, 34]], dtype=int32)>"
            ]
          },
          "metadata": {},
          "execution_count": 69
        }
      ]
    },
    {
      "cell_type": "code",
      "source": [
        "tensor_three_d = tf.constant([\n",
        "    [[1,2,0],\n",
        "     [3,5,1]],\n",
        "    [[4,322,1],\n",
        "     [345,21,21]],\n",
        "    [[65,32,77],\n",
        "     [21,46,89]]\n",
        "])"
      ],
      "metadata": {
        "id": "sqo3_JlLuItG"
      },
      "execution_count": null,
      "outputs": []
    },
    {
      "cell_type": "code",
      "source": [
        "print(tensor_three_d)"
      ],
      "metadata": {
        "colab": {
          "base_uri": "https://localhost:8080/"
        },
        "id": "_ueouMKeH63L",
        "outputId": "8cc2ea24-492c-4464-c9ed-b3c913a15f1a"
      },
      "execution_count": null,
      "outputs": [
        {
          "output_type": "stream",
          "name": "stdout",
          "text": [
            "tf.Tensor(\n",
            "[[[  1   2   0]\n",
            "  [  3   5   1]]\n",
            "\n",
            " [[  4 322   1]\n",
            "  [345  21  21]]\n",
            "\n",
            " [[ 65  32  77]\n",
            "  [ 21  46  89]]], shape=(3, 2, 3), dtype=int32)\n"
          ]
        }
      ]
    },
    {
      "cell_type": "code",
      "source": [
        "tf.expand_dims(tensor_three_d,axis=1)"
      ],
      "metadata": {
        "colab": {
          "base_uri": "https://localhost:8080/"
        },
        "id": "lqSxAy9qIkxC",
        "outputId": "4c254c42-b070-4c06-b936-1ece17b289a2"
      },
      "execution_count": null,
      "outputs": [
        {
          "output_type": "execute_result",
          "data": {
            "text/plain": [
              "<tf.Tensor: shape=(3, 1, 2, 3), dtype=int32, numpy=\n",
              "array([[[[  1,   2,   0],\n",
              "         [  3,   5,   1]]],\n",
              "\n",
              "\n",
              "       [[[  4, 322,   1],\n",
              "         [345,  21,  21]]],\n",
              "\n",
              "\n",
              "       [[[ 65,  32,  77],\n",
              "         [ 21,  46,  89]]]], dtype=int32)>"
            ]
          },
          "metadata": {},
          "execution_count": 84
        }
      ]
    },
    {
      "cell_type": "code",
      "source": [
        "ex = tf.expand_dims(tensor_three_d,axis=0)"
      ],
      "metadata": {
        "id": "TaC9QrCOH8co"
      },
      "execution_count": null,
      "outputs": []
    },
    {
      "cell_type": "code",
      "source": [
        "print(ex.shape)"
      ],
      "metadata": {
        "colab": {
          "base_uri": "https://localhost:8080/"
        },
        "id": "BMNJdC5PIFv_",
        "outputId": "a32d67dd-5a7b-4e5f-8fd2-9b797fd5e09a"
      },
      "execution_count": null,
      "outputs": [
        {
          "output_type": "stream",
          "name": "stdout",
          "text": [
            "(1, 3, 2, 3)\n"
          ]
        }
      ]
    },
    {
      "cell_type": "code",
      "source": [
        "tf.reshape(ex,[3,2,3])"
      ],
      "metadata": {
        "colab": {
          "base_uri": "https://localhost:8080/"
        },
        "id": "osMeswEdKHX5",
        "outputId": "d2c6b1c7-8036-438b-c36d-ced9a6cb01f1"
      },
      "execution_count": null,
      "outputs": [
        {
          "output_type": "execute_result",
          "data": {
            "text/plain": [
              "<tf.Tensor: shape=(3, 2, 3), dtype=int32, numpy=\n",
              "array([[[  1,   2,   0],\n",
              "        [  3,   5,   1]],\n",
              "\n",
              "       [[  4, 322,   1],\n",
              "        [345,  21,  21]],\n",
              "\n",
              "       [[ 65,  32,  77],\n",
              "        [ 21,  46,  89]]], dtype=int32)>"
            ]
          },
          "metadata": {},
          "execution_count": 88
        }
      ]
    },
    {
      "cell_type": "code",
      "source": [
        "tf.reshape(ex,[2,3,3])"
      ],
      "metadata": {
        "colab": {
          "base_uri": "https://localhost:8080/"
        },
        "id": "_dtbSZkiKUFX",
        "outputId": "341f9df6-f15e-4a4f-ca30-54bece42f68e"
      },
      "execution_count": null,
      "outputs": [
        {
          "output_type": "execute_result",
          "data": {
            "text/plain": [
              "<tf.Tensor: shape=(2, 3, 3), dtype=int32, numpy=\n",
              "array([[[  1,   2,   0],\n",
              "        [  3,   5,   1],\n",
              "        [  4, 322,   1]],\n",
              "\n",
              "       [[345,  21,  21],\n",
              "        [ 65,  32,  77],\n",
              "        [ 21,  46,  89]]], dtype=int32)>"
            ]
          },
          "metadata": {},
          "execution_count": 92
        }
      ]
    },
    {
      "cell_type": "code",
      "source": [
        "x = tf.constant([[1,2,3],\n",
        "                 [4,5,6]])\n",
        "\n",
        "y = tf.constant([\n",
        "    [1,2],\n",
        "    [3,4]\n",
        "])"
      ],
      "metadata": {
        "id": "867715KDKoB_"
      },
      "execution_count": null,
      "outputs": []
    },
    {
      "cell_type": "code",
      "source": [
        "print(tf.pad(x,y,'constant'))"
      ],
      "metadata": {
        "colab": {
          "base_uri": "https://localhost:8080/"
        },
        "id": "y-d8lgPlM7rp",
        "outputId": "2f318f35-68a5-43e4-9f9f-81d0bf3baa16"
      },
      "execution_count": null,
      "outputs": [
        {
          "output_type": "stream",
          "name": "stdout",
          "text": [
            "tf.Tensor(\n",
            "[[0 0 0 0 0 0 0]\n",
            " [0 0 1 2 3 0 0]\n",
            " [0 0 4 5 6 0 0]\n",
            " [0 0 0 0 0 0 0]], shape=(4, 7), dtype=int32)\n"
          ]
        }
      ]
    },
    {
      "cell_type": "code",
      "source": [],
      "metadata": {
        "id": "6ZEMS5FlNHbt"
      },
      "execution_count": null,
      "outputs": []
    }
  ]
}